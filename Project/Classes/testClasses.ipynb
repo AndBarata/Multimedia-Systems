{
 "cells": [
  {
   "cell_type": "code",
   "execution_count": 58,
   "metadata": {},
   "outputs": [],
   "source": [
    "## Script to test classes .py\n",
    "import numpy as np\n",
    "\n",
    "from ProcessingManager import ProcessingManager\n",
    "from MusicSheetManager import MusicSheetManager\n",
    "from Microphone import Microphone"
   ]
  },
  {
   "cell_type": "code",
   "execution_count": 59,
   "metadata": {},
   "outputs": [],
   "source": [
    "def generate_sine_wave(duration, frequency, sample_frequency):\n",
    "    # Convert the duration to seconds\n",
    "    duration_seconds = duration / sample_frequency\n",
    "\n",
    "    # Calculate the number of samples\n",
    "    samples = int(duration_seconds * sample_frequency)\n",
    "\n",
    "    # Create an array to store the sine wave samples\n",
    "    samples_array = np.zeros(samples)\n",
    "\n",
    "    # Generate the sine wave samples\n",
    "    for i in range(samples):\n",
    "        sample_time = i / sample_frequency\n",
    "        sample_value = np.sin(2 * np.pi * frequency * sample_time)\n",
    "        samples_array[i] = sample_value\n",
    "\n",
    "    return samples_array\n",
    "\n",
    "def generate_square_wave(duration, frequency, sample_frequency):\n",
    "    # Convert the duration to seconds\n",
    "    duration_seconds = duration / sample_frequency\n",
    "\n",
    "    # Calculate the number of samples\n",
    "    samples = int(duration_seconds * sample_frequency)\n",
    "\n",
    "    # Create an array to store the square wave samples\n",
    "    samples_array = np.zeros(samples) + 0.001\n",
    "\n",
    "    # Generate the square wave samples\n",
    "    for i in range(samples):\n",
    "        sample_time = i / sample_frequency\n",
    "        sample_value = np.sign(np.sin(2 * np.pi * frequency * sample_time))\n",
    "        samples_array[i] = sample_value\n",
    "\n",
    "    return samples_array\n",
    "\n",
    "\n",
    "\n",
    "def calculate_f0_autocorrelation(frame, fs):\n",
    "    autocorr = np.correlate(frame, frame)\n",
    "\n",
    "    # Adjust fo_min based on the expected F0 range\n",
    "    fo_min = 10  # Hz\n",
    "    fo_max = 400  # Hz\n",
    "\n",
    "    autocorr2 = autocorr[len(frame) + int(fs / fo_max):]\n",
    "\n",
    "    # Handle the case of an empty autocorr2 array\n",
    "    if autocorr2.size == 0:\n",
    "        f0 = 0  # Set F0 to 0 if autocorr2 is empty\n",
    "    else:\n",
    "        maxIdx = np.argmax(autocorr2)\n",
    "        f0 = fs / (maxIdx + int(fs / fo_max))\n",
    "\n",
    "    return f0"
   ]
  },
  {
   "cell_type": "code",
   "execution_count": 60,
   "metadata": {},
   "outputs": [],
   "source": [
    "processingManager = ProcessingManager()\n",
    "musicSheetManager = MusicSheetManager(processingManager)"
   ]
  },
  {
   "cell_type": "code",
   "execution_count": 61,
   "metadata": {},
   "outputs": [],
   "source": [
    "sound = processingManager.microphone.acquireAudio()\n",
    "#sound = generate_sine_wave(processingManager.audioSize, 440, processingManager.sampleFrequency)\n",
    "#sound = generate_square_wave(processingManager.audioSize, 440, processingManager.sampleFrequency)\n"
   ]
  },
  {
   "cell_type": "code",
   "execution_count": 62,
   "metadata": {},
   "outputs": [
    {
     "name": "stdout",
     "output_type": "stream",
     "text": [
      "0\n"
     ]
    }
   ],
   "source": [
    "print(calculate_f0_autocorrelation(sound, processingManager.sampleFrequency))\n"
   ]
  }
 ],
 "metadata": {
  "kernelspec": {
   "display_name": "Python 3",
   "language": "python",
   "name": "python3"
  },
  "language_info": {
   "codemirror_mode": {
    "name": "ipython",
    "version": 3
   },
   "file_extension": ".py",
   "mimetype": "text/x-python",
   "name": "python",
   "nbconvert_exporter": "python",
   "pygments_lexer": "ipython3",
   "version": "3.12.0"
  }
 },
 "nbformat": 4,
 "nbformat_minor": 2
}
